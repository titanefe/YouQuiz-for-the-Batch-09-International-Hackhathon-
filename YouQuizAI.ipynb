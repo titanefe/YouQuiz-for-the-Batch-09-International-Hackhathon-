{
 "cells": [
  {
   "cell_type": "code",
   "execution_count": null,
   "id": "e9236e03",
   "metadata": {},
   "outputs": [],
   "source": [
    "#Run only once to install\n",
    "%pip install langchain langchain-community langchain-ollama pytubefix faiss-cpu protobuf IPython sentence-transformers faster-whisper"
   ]
  },
  {
   "cell_type": "code",
   "execution_count": null,
   "id": "efeb4299",
   "metadata": {},
   "outputs": [],
   "source": [
    "#Versions are available in requirements.txt\n",
    "from faster_whisper import WhisperModel\n",
    "from langchain_ollama import OllamaEmbeddings\n",
    "from langchain.prompts import ChatPromptTemplate, PromptTemplate\n",
    "from langchain_core.output_parsers import StrOutputParser\n",
    "from langchain_ollama import OllamaLLM\n",
    "from langchain_core.runnables import RunnablePassthrough\n",
    "from langchain_community.vectorstores import FAISS\n",
    "from IPython.display import display, Markdown\n",
    "from langchain.text_splitter import RecursiveCharacterTextSplitter\n",
    "import os\n",
    "import warnings\n",
    "from pytubefix import YouTube\n",
    "from pytubefix.cli import on_progress\n",
    "from langchain.docstore.document import Document\n",
    "from langchain.chains.retrieval_qa.base import RetrievalQA\n",
    "from IPython.display import clear_output\n",
    "\n",
    "warnings.filterwarnings('ignore')\n",
    "os.environ[\"PROTOCOL_BUFFERS_PYTHON_IMPLEMENTATION\"] = \"python\"\n",
    "os.environ['KMP_DUPLICATE_LIB_OK'] = 'TRUE'\n"
   ]
  },
  {
   "cell_type": "code",
   "execution_count": null,
   "id": "818d906f",
   "metadata": {},
   "outputs": [],
   "source": [
    "url= input(\"Enter the URL of your YouTube video: \")\n",
    "yt = YouTube(url, on_progress_callback = on_progress)\n",
    "print(yt.title)\n",
    " \n",
    "ys = yt.streams.filter(only_audio=True).first()\n",
    "output = ys.download()\n",
    "\n",
    "model = WhisperModel(\"base\")\n",
    "result = \"\"\n",
    "for segment in model.transcribe(output)[0]:\n",
    "   result += segment.text + \" \"\n"
   ]
  },
  {
   "cell_type": "code",
   "execution_count": null,
   "id": "68622ade",
   "metadata": {},
   "outputs": [],
   "source": [
    "text_splitter = RecursiveCharacterTextSplitter(chunk_size=1000, chunk_overlap=300)#Chunk overlap is key to avoid splitting text mid context.\n",
    "document = Document(page_content=result)\n",
    "chunks = text_splitter.split_documents([document])\n",
    "\n",
    "print(f\"Split into {len(chunks)} chunks\") #To controll if everything is working fine\n",
    "print(\"First chunk preview:\\n\", chunks[0].page_content[:300])"
   ]
  },
  {
   "cell_type": "code",
   "execution_count": null,
   "id": "edc0634f",
   "metadata": {},
   "outputs": [],
   "source": [
    "# Create embeddings and vector store \n",
    "# Make sure you run ollama before running this block\n",
    "print(\"Creating embeddings and vector store (this may take a few minutes)...\")\n",
    "embeddings = OllamaEmbeddings(model=\"nomic-embed-text\")\n",
    "vector_store = FAISS.from_documents(chunks, embeddings)\n",
    "print(\"Vector store created successfully\")"
   ]
  },
  {
   "cell_type": "code",
   "execution_count": null,
   "id": "95d4b597",
   "metadata": {},
   "outputs": [],
   "source": [
    "print(\"Setting up retriever...\")\n",
    "retriever = vector_store.as_retriever(search_kwargs={\"k\": 10})  #Maybe increased if computer RAM is powerful\n",
    "\n",
    "#There is up to 671b models of deepseek-r1 but require high storage and RAM\n",
    "llm = OllamaLLM(model=\"deepseek-r1:1.5b\", temperature=0.9, verbose=False, top_k=3, top_p=1.0)# Near zero temperature for really factual quizes\n",
    "\n",
    "# QA chain for RAG\n",
    "print(\"Creating QA chain...\")\n",
    "qa_chain = RetrievalQA.from_chain_type(\n",
    "    llm=llm,\n",
    "    chain_type=\"stuff\",\n",
    "    retriever=retriever,\n",
    "    return_source_documents=True\n",
    ")"
   ]
  },
  {
   "cell_type": "code",
   "execution_count": null,
   "id": "ead13e21",
   "metadata": {},
   "outputs": [],
   "source": [
    " # You can change the base prompt if you wish:\n",
    "question = \"From now on act as a teacher and prepare me a quiz which has factual answers and will improve my knowledge on this context. Have the answers at the end of the full quiz. Generate a 4 question quiz which is about the basics of RAG system.\"#Persona pattern to decline unexpected outputs\n",
    "result = qa_chain({\"query\": question})\n",
    "clear_output(wait=True)\n",
    "print(\"\\nAnswer:\", result[\"result\"])"
   ]
  }
 ],
 "metadata": {
  "kernelspec": {
   "display_name": "Python 3",
   "language": "python",
   "name": "python3"
  },
  "language_info": {
   "codemirror_mode": {
    "name": "ipython",
    "version": 3
   },
   "file_extension": ".py",
   "mimetype": "text/x-python",
   "name": "python",
   "nbconvert_exporter": "python",
   "pygments_lexer": "ipython3",
   "version": "3.13.3"
  }
 },
 "nbformat": 4,
 "nbformat_minor": 5
}
